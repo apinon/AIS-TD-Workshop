{
 "cells": [
  {
   "cell_type": "markdown",
   "metadata": {},
   "source": [
    "Importing libraries \n"
   ]
  },
  {
   "cell_type": "code",
   "execution_count": null,
   "metadata": {},
   "outputs": [],
   "source": [
    "import requests #for making standard html requests \n",
    "from bs4 import BeautifulSoup \n",
    "import pandas as pd"
   ]
  },
  {
   "cell_type": "markdown",
   "metadata": {},
   "source": [
    "Setting up the web scraper to read the text on the website page.\n",
    "Page enconding allows us to specify if we wantto have complete control over the web scraper and how we want it to read and scrape the data \n",
    "from the website. "
   ]
  },
  {
   "cell_type": "code",
   "execution_count": 11,
   "metadata": {},
   "outputs": [
    {
     "name": "stdout",
     "output_type": "stream",
     "text": [
      "text/html; charset=UTF-8\n",
      "Spanish singer Rosalía has captured attention across the globe with her unique voice, dynamic visuals, and genre-bending music. Now, she poses on the cover of Vogue Magazine for the magazine’s January 2021 edition. Is there anything this woman can’t do? \n",
      "The singer stuns in red as she stares through the camera straight into our souls. We see three different outfits in her photos for Vogue that all somehow encompass who Rosalía is. We can see the free flow of her flamenco skirt, the flair of her sparkling dress, and the calm power searing through her green suit. The Spanish beauty embodies a whole range of qualities and projects them through her music and fashion. Maybe that’s why so many of us love her. She’s got a little something for everyone. \n",
      "Vogue‘s article gives readers a sneak peek into the wonderful mind of Rosalía. Readers learn about her background in the flamenco style, her relationship with her sister, and her love for movies and record stores. The singer also discusses the lessons she’s learned while facing criticisms involving culture appropriation versus appreciation. She notes that, in an ideal world, music would have no borders; however, she has learned the importance of respecting cultures in an industry (and world) where inequalities have created a far less than ideal world for many. \n",
      "Finally, Rosalía reflects on how alone time during 2020 has helped her finish her sophomore album, which fans can expect to be released in 2021. You can read the entire cover story here. \n",
      "What’s your favorite look from this Vogue edition? You can let us know online in the comment section or find us on Facebook, Twitter, or Instagram to let us know at @TheHoneyPOP. We can’t wait to hear what you think! Follow us for more stories like this! \n",
      "Want more music news? Look here!\n",
      "TO LEARN MORE ABOUT ROSALÍA:FACEBOOK | INSTAGRAM | TWITTER | WEBSITE\n",
      "Featured Image Source Annie Leibovitz via Vogue \n",
      "\n",
      "This site uses Akismet to reduce spam. Learn how your comment data is processed.\n",
      "Enter your email address to subscribe to The Honey POP and receive notifications of new posts by email.\n",
      "\n",
      "\n",
      "\t\t\t\t\t\t\tEmail Address                        \n",
      "\n",
      "\n",
      "\n",
      "\n",
      "\n",
      "\n",
      "\n",
      "\n",
      "\t                        Subscribe                        \n",
      "\n",
      "The Honey POP, LLC © 2019. All Rights Reserved  Click here to view our privacy policy\n"
     ]
    }
   ],
   "source": [
    "page = requests.get(\"https://thehoneypop.com/2020/12/21/rosalia-discusses-criticism-new-music-and-more-with-vogue/\")\n",
    "soup = BeautifulSoup(page.text, 'html.parser')\n",
    "print (page.headers.get(\"content-type\",\"unknown\"))\n",
    "page.encoding = 'utf-8' \n",
    "page \n",
    "\n",
    "ARTICLE = soup.findAll(\"p\")\n",
    "ARTICLE\n",
    "for news in VOGUE:\n",
    "    print(news.get_text())"
   ]
  },
  {
   "cell_type": "code",
   "execution_count": null,
   "metadata": {},
   "outputs": [],
   "source": []
  }
 ],
 "metadata": {
  "kernelspec": {
   "display_name": "Python 3",
   "language": "python",
   "name": "python3"
  },
  "language_info": {
   "codemirror_mode": {
    "name": "ipython",
    "version": 3
   },
   "file_extension": ".py",
   "mimetype": "text/x-python",
   "name": "python",
   "nbconvert_exporter": "python",
   "pygments_lexer": "ipython3",
   "version": "3.8.5"
  }
 },
 "nbformat": 4,
 "nbformat_minor": 4
}
